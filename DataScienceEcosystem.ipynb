{
 "cells": [
  {
   "attachments": {},
   "cell_type": "markdown",
   "id": "3bbe82c7-158e-4102-b768-d9033d0a34a5",
   "metadata": {},
   "source": [
    "# Outils et écosystème de la science des données"
   ]
  },
  {
   "cell_type": "markdown",
   "id": "9bc89ba4-a1c7-400c-8310-b6ac6716a427",
   "metadata": {},
   "source": [
    "Dans ce notebook, les outils et l'écosystème de la science des données sont résumés."
   ]
  },
  {
   "cell_type": "markdown",
   "id": "88c9c8b4-115c-48b2-9fc8-1ad580a10ec5",
   "metadata": {},
   "source": [
    "**Objectifs :**\n",
    "\n",
    "- Lister les langages populaires pour la science des données\n",
    "- Des exemples populaires que les scientifiques des données utilisent\n",
    "- Des exemples d'évaluation d'expressions arithmétiques en Python"
   ]
  },
  {
   "cell_type": "markdown",
   "id": "3317f02e-a096-4851-b980-0bb246beb2db",
   "metadata": {},
   "source": [
    "\n",
    "Certains des langages populaires que les scientifiques des données utilisent sont :\n",
    "1. Python  \n",
    "2. R  \n",
    "3. SQL"
   ]
  },
  {
   "cell_type": "markdown",
   "id": "d0476297-ca7a-43f1-8a1e-6ff743844587",
   "metadata": {},
   "source": [
    "Certaines des bibliothèques couramment utilisées par les scientifiques des données incluent :\n",
    "\n",
    "1. NumPy\n",
    "2. Pandas\n",
    "3. Matplotlib \n",
    "4. Scikit-learn \n",
    "5. TensorFlow\n"
   ]
  },
  {
   "attachments": {},
   "cell_type": "markdown",
   "id": "3b6557d0-3c3a-4163-9c33-03305d0ef861",
   "metadata": {},
   "source": [
    "| Outils de la science des données |\n",
    "| -------------|\n",
    "| Jupyter Notebook | \n",
    "| RStudio | \n",
    "| Spyder | \n"
   ]
  },
  {
   "cell_type": "markdown",
   "id": "bdf09479-9c86-4790-88c2-cfecb97b3db3",
   "metadata": {},
   "source": [
    "### Voici quelques exemples d'évaluation d'expressions arithmétiques en Python\n",
    "Addition\n",
    "3 + 5\n",
    "Soustraction\n",
    "10 - 4  \n",
    "Multiplication\n",
    "7 * 6   \n",
    "Division\n",
    "15 / 3  \n"
   ]
  },
  {
   "cell_type": "code",
   "execution_count": 17,
   "id": "0fe8f3f3-130d-4738-b589-158028b9a5ad",
   "metadata": {},
   "outputs": [
    {
     "data": {
      "text/plain": [
       "17"
      ]
     },
     "execution_count": 17,
     "metadata": {},
     "output_type": "execute_result"
    }
   ],
   "source": [
    "#Ceci est une simple expression arithmétique pour multiplier puis additionner des entiers\n",
    "(3*4)+5"
   ]
  },
  {
   "cell_type": "code",
   "execution_count": 18,
   "id": "629347a9-34ea-42b0-b63a-5cf108bac79b",
   "metadata": {},
   "outputs": [
    {
     "data": {
      "text/plain": [
       "3.3333333333333335"
      ]
     },
     "execution_count": 18,
     "metadata": {},
     "output_type": "execute_result"
    }
   ],
   "source": [
    "#Cela convertira 200 minutes en heures en divisant par 60\n",
    "200/60"
   ]
  },
  {
   "cell_type": "markdown",
   "id": "0952d831-4628-4591-b33d-6bfa96786164",
   "metadata": {},
   "source": [
    "## Auteur \n",
    "Lamyaa El Boufi"
   ]
  },
  {
   "cell_type": "code",
   "execution_count": null,
   "id": "371ab9ba-9efa-401c-b924-b798554238c6",
   "metadata": {},
   "outputs": [],
   "source": []
  }
 ],
 "metadata": {
  "kernelspec": {
   "display_name": "Python 3 (ipykernel)",
   "language": "python",
   "name": "python3"
  },
  "language_info": {
   "codemirror_mode": {
    "name": "ipython",
    "version": 3
   },
   "file_extension": ".py",
   "mimetype": "text/x-python",
   "name": "python",
   "nbconvert_exporter": "python",
   "pygments_lexer": "ipython3",
   "version": "3.13.7"
  }
 },
 "nbformat": 4,
 "nbformat_minor": 5
}
